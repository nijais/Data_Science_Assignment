{
 "cells": [
  {
   "cell_type": "markdown",
   "id": "3dc09e82-369d-4af6-a01c-12e48c46a959",
   "metadata": {},
   "source": [
    "# Q1. Explain GET and POST methods.\n",
    "\n",
    "#### In HTTP (Hypertext Transfer Protocol), GET and POST are two of the most commonly used methods for sending data between a client and a server.\n",
    "\n",
    "#### GET Method:The GET method is used to retrieve or request data from a server. When a client sends a GET request to a server, the server will respond with the requested data. The data can be in the form of a web page, an image, a video, or any other type of file. The data is sent as a query string in the URL, which is visible in the browser's address bar. Because the data is sent as part of the URL, there is a limit to the amount of data that can be sent using the GET method.\n",
    "\n",
    "- Example: When a user enters a URL in a web browser, the browser sends a GET request to the server to retrieve the web page associated with that URL.\n",
    "\n",
    "#### POST Method: The POST method is used to submit data to a server. When a client sends a POST request to a server, the data is sent in the request body rather than as part of the URL. This allows for larger amounts of data to be sent, and also allows for more secure transmission of data. The POST method is often used when a user submits a form on a web page, as the form data can be sent to the server using a POST request.\n",
    "\n",
    "- Example: When a user submits a form on a web page, the form data is sent to the server using a POST request. The server can then process the data and send a response back to the client.\n"
   ]
  },
  {
   "cell_type": "code",
   "execution_count": null,
   "id": "df7e3848-f4cc-4d0d-8cf8-77657b01be4b",
   "metadata": {},
   "outputs": [],
   "source": []
  },
  {
   "cell_type": "markdown",
   "id": "2c0a98d7-60d9-4ac5-bc84-aba8413f253f",
   "metadata": {},
   "source": [
    "# Q2. Why is request used in Flask?\n",
    "\n",
    "#### In Flask, the request module is used to handle incoming HTTP requests from clients. It provides a set of functions and objects that allow developers to access information about the current request being processed, such as the request method, headers, form data, query parameters, and uploaded files.\n",
    "\n",
    "#### The request module in Flask is used to handle incoming HTTP requests and extract data from them. This allows developers to build dynamic web applications that can accept user input and respond with customized output.\n",
    "\n",
    "#### The request module is particularly useful for building web applications that accept user input, such as web forms. When a user submits a form on a web page, the form data is sent to the server as an HTTP request. The request module can be used to extract the form data from the request and process it in the Flask application.\n",
    "\n",
    "#### Here are some examples of how the request module can be used in Flask:"
   ]
  },
  {
   "cell_type": "code",
   "execution_count": null,
   "id": "0d8b86f0-fafd-43b7-b966-43d54eda045f",
   "metadata": {},
   "outputs": [],
   "source": [
    "1. Retrieving the request method:\n",
    "from flask import Flask, request\n",
    "app = Flask(__name__)\n",
    "\n",
    "@app.route(\"/hello\", methods = ['GET', 'POST'])\n",
    "def hello():\n",
    "    if request.method == 'Post':\n",
    "        # handle POST request\n",
    "    else :\n",
    "        # handle the GET request\n",
    "        \n",
    "2. Retrieving form data:\n",
    "from flask import Flask,request\n",
    "app = Flask(__name__)\n",
    "\n",
    "@app.route('/login', methods=['POST'])\n",
    "def login():\n",
    "    username = request.form.get('username')\n",
    "    password = request.form.get('password')\n",
    "    # validate username and password\n",
    "    \n",
    "3. Retrieving query parameters:\n",
    "from flask import Flask,request\n",
    "app = Flask(__name__)\n",
    "\n",
    "@app.route('/search', methods=['GET'])\n",
    "def search():\n",
    "    query = request.args.get('q')\n",
    "    # perform search based on query\n",
    "    \n",
    "4. Retrieving uploaded files:\n",
    "from flask import Flask,request\n",
    "app = Flask(__name__)\n",
    "\n",
    "@app.route('/upload', methods=['POST'])\n",
    "def upload():\n",
    "    file = request.files.get('file')\n",
    "    # save file to disk"
   ]
  },
  {
   "cell_type": "code",
   "execution_count": null,
   "id": "e75a5634-b6bf-48ab-9557-558927ed396e",
   "metadata": {},
   "outputs": [],
   "source": []
  },
  {
   "cell_type": "markdown",
   "id": "a7e63816-6cc4-49b4-aab6-e26d14345b87",
   "metadata": {},
   "source": [
    "# Q3. Why is redirect() used in Flask?\n",
    "\n",
    "#### In Flask, redirect() is used to redirect the user's browser to a different URL. This function is often used in web applications to redirect the user after they have completed a particular action or to enforce certain authentication or authorization requirements.\n",
    "\n",
    "#### For example, after a user submits a form to add an item to their shopping cart, the application might redirect them to the shopping cart page to see their updated cart. Similarly, an application might redirect an unauthenticated user to a login page before allowing them to access certain content or functionality.\n",
    "\n",
    "#### To use redirect() in Flask, you need to import it from the flask module and call it with the URL that you want to redirect to, as follows:"
   ]
  },
  {
   "cell_type": "code",
   "execution_count": null,
   "id": "b7f9db66-3b13-405b-8afe-067bd98a6737",
   "metadata": {},
   "outputs": [],
   "source": [
    "from flask import flask, redirect, url_for\n",
    "app = Flask(__name__)\n",
    "\n",
    "@app.route('/')\n",
    "def indwx():\n",
    "    # Redirect to the 'hello' endpoint\n",
    "    return redirect(url_for('hello'))\n",
    "\n",
    "@app.route('/hello')\n",
    "def hello():\n",
    "    return \"Hello World\""
   ]
  },
  {
   "cell_type": "markdown",
   "id": "3e6026cf-4bab-42e2-a83b-5438cb41b8d9",
   "metadata": {},
   "source": [
    "#### In above example, the index() function redirects the user to the hello() function using redirect() and url_for(). When the user visits the root URL '/', they will be redirected to the 'hello' endpoint, which will return the message 'Hello, World!'."
   ]
  },
  {
   "cell_type": "code",
   "execution_count": null,
   "id": "701b2db1-3dd3-43c9-9c77-5809021e2b57",
   "metadata": {},
   "outputs": [],
   "source": []
  },
  {
   "cell_type": "markdown",
   "id": "c0424fd4-63d0-4275-9047-c128821a465e",
   "metadata": {},
   "source": [
    "# Q4. What are templates in Flask? Why is the render_template() function used?\n",
    "\n",
    "#### In Flask, templates are files that contain HTML and placeholders for dynamic content. They are used to generate dynamic web pages by filling in the placeholders with data from the server.\n",
    "\n",
    "#### Flask uses a templating engine called Jinja2. Jinja2 templates are similar to HTML files, but they allow for the insertion of dynamic content through the use of placeholders, called variables and expressions. Variables are enclosed in double curly braces ({{ }}), while expressions are enclosed in curly braces with a percent sign ({% %}).\n",
    "\n",
    "#### Flask templates can also include control structures such as conditional statements and loops, which allow for the creation of more complex dynamic content. Control structures are also enclosed in curly braces with a percent sign ({% %}).\n",
    "\n",
    "#### When a user requests a page from a Flask application, the server retrieves the necessary data, renders the appropriate template with the data, and sends the resulting HTML to the user's browser. This allows for the creation of dynamic and personalized web pages for each user.\n",
    "\n",
    "#### The render_template() function is a built-in function in Flask that is used to render a template with the given context. It takes the name of the template file as its first argument and one or more keyword arguments that represent the variables to be passed to the template.\n",
    "\n",
    "#### The main purpose of the render_template() function is to generate HTML content dynamically by combining a template file and data from the server. The template file contains placeholders for the dynamic content, which are replaced with the actual data at runtime. The resulting HTML content is then returned to the client's web browser."
   ]
  },
  {
   "cell_type": "code",
   "execution_count": null,
   "id": "593ddfcf-7dde-4971-b368-6a3d7ab1212d",
   "metadata": {},
   "outputs": [],
   "source": []
  },
  {
   "cell_type": "markdown",
   "id": "52525c19-663e-4437-b69c-88a86bd8e780",
   "metadata": {},
   "source": [
    "# Q5. Create a simple API. Use Postman to test it. Attach the screenshot of the output in the Jupyter Notebook.\n"
   ]
  },
  {
   "cell_type": "code",
   "execution_count": 2,
   "id": "f700899a-b77b-4fa0-801c-bba9334c87a5",
   "metadata": {},
   "outputs": [
    {
     "name": "stdout",
     "output_type": "stream",
     "text": [
      "Collecting flask\n",
      "  Downloading Flask-2.2.3-py3-none-any.whl (101 kB)\n",
      "\u001b[2K     \u001b[90m━━━━━━━━━━━━━━━━━━━━━━━━━━━━━━━━━━━━━━\u001b[0m \u001b[32m101.8/101.8 kB\u001b[0m \u001b[31m12.6 MB/s\u001b[0m eta \u001b[36m0:00:00\u001b[0m\n",
      "\u001b[?25hCollecting itsdangerous>=2.0\n",
      "  Downloading itsdangerous-2.1.2-py3-none-any.whl (15 kB)\n",
      "Requirement already satisfied: Jinja2>=3.0 in /opt/conda/lib/python3.10/site-packages (from flask) (3.1.2)\n",
      "Collecting Werkzeug>=2.2.2\n",
      "  Downloading Werkzeug-2.2.3-py3-none-any.whl (233 kB)\n",
      "\u001b[2K     \u001b[90m━━━━━━━━━━━━━━━━━━━━━━━━━━━━━━━━━━━━━━\u001b[0m \u001b[32m233.6/233.6 kB\u001b[0m \u001b[31m12.1 MB/s\u001b[0m eta \u001b[36m0:00:00\u001b[0m\n",
      "\u001b[?25hRequirement already satisfied: click>=8.0 in /opt/conda/lib/python3.10/site-packages (from flask) (8.1.3)\n",
      "Requirement already satisfied: MarkupSafe>=2.0 in /opt/conda/lib/python3.10/site-packages (from Jinja2>=3.0->flask) (2.1.1)\n",
      "Installing collected packages: Werkzeug, itsdangerous, flask\n",
      "Successfully installed Werkzeug-2.2.3 flask-2.2.3 itsdangerous-2.1.2\n",
      "Note: you may need to restart the kernel to use updated packages.\n"
     ]
    }
   ],
   "source": [
    "%pip install flask"
   ]
  },
  {
   "cell_type": "code",
   "execution_count": null,
   "id": "d1d8d598-3053-4a05-a4be-9fcd41dc9512",
   "metadata": {},
   "outputs": [
    {
     "name": "stdout",
     "output_type": "stream",
     "text": [
      " * Serving Flask app '__main__'\n",
      " * Debug mode: off\n"
     ]
    },
    {
     "name": "stderr",
     "output_type": "stream",
     "text": [
      "WARNING: This is a development server. Do not use it in a production deployment. Use a production WSGI server instead.\n",
      " * Running on all addresses (0.0.0.0)\n",
      " * Running on http://127.0.0.1:5000\n",
      " * Running on http://172.18.0.18:5000\n",
      "Press CTRL+C to quit\n",
      "172.18.0.2 - - [27/Feb/2023 10:26:39] \"GET /hello HTTP/1.1\" 200 -\n"
     ]
    }
   ],
   "source": [
    "from flask import Flask, jsonify\n",
    "\n",
    "app = Flask(__name__)\n",
    "\n",
    "@app.route('/hello')\n",
    "def hello():\n",
    "    return jsonify({'message': 'Hello, World!'})\n",
    "\n",
    "if __name__ == '__main__':\n",
    "    app.run(host='0.0.0.0')"
   ]
  },
  {
   "cell_type": "markdown",
   "id": "5b6e9b41-766e-4c0c-8976-dd32b3503715",
   "metadata": {},
   "source": [
    "<img src=\"Screenshot (178).png\">"
   ]
  },
  {
   "cell_type": "code",
   "execution_count": null,
   "id": "15606219-6009-4954-8d0d-1fd7d80b6658",
   "metadata": {},
   "outputs": [],
   "source": []
  },
  {
   "cell_type": "code",
   "execution_count": null,
   "id": "6adda3ba-752e-45ca-9086-b3fad64f722a",
   "metadata": {},
   "outputs": [],
   "source": []
  },
  {
   "cell_type": "code",
   "execution_count": null,
   "id": "1756b9b5-ca73-4e91-ba14-74331db3ac30",
   "metadata": {},
   "outputs": [],
   "source": []
  },
  {
   "cell_type": "code",
   "execution_count": null,
   "id": "db830ac4-e419-4b0a-ad35-f6406a4eed5c",
   "metadata": {},
   "outputs": [],
   "source": []
  },
  {
   "cell_type": "code",
   "execution_count": null,
   "id": "4fda717f-4171-439b-a8d8-f6fc0098a6bb",
   "metadata": {},
   "outputs": [],
   "source": []
  }
 ],
 "metadata": {
  "kernelspec": {
   "display_name": "Python 3 (ipykernel)",
   "language": "python",
   "name": "python3"
  },
  "language_info": {
   "codemirror_mode": {
    "name": "ipython",
    "version": 3
   },
   "file_extension": ".py",
   "mimetype": "text/x-python",
   "name": "python",
   "nbconvert_exporter": "python",
   "pygments_lexer": "ipython3",
   "version": "3.10.8"
  }
 },
 "nbformat": 4,
 "nbformat_minor": 5
}
