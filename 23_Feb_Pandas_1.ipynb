{
 "cells": [
  {
   "cell_type": "markdown",
   "id": "7744bdf3-b199-4aa5-bd5f-171fd1f42402",
   "metadata": {},
   "source": [
    "<div style=\"text-align:center;\">\n",
    "    <div class=\"alert alert-block alert-success\">\n",
    "        <b>Assignment 22: Pandas Basics </b>[23_Feb_2023]\n",
    "    </div>\n",
    "</div>"
   ]
  },
  {
   "cell_type": "code",
   "execution_count": null,
   "id": "26c4c861-ff66-47e5-b508-e34497fd0815",
   "metadata": {},
   "outputs": [],
   "source": []
  },
  {
   "cell_type": "markdown",
   "id": "e03c4693-b756-4839-9d2a-4901b7aa7614",
   "metadata": {},
   "source": [
    "# Q1. Create a Pandas Series that contains the following data: 4, 8, 15, 16, 23, and 42. Then, print the series."
   ]
  },
  {
   "cell_type": "code",
   "execution_count": 2,
   "id": "27f71e8f-4322-4c9c-a693-cc35655fc687",
   "metadata": {},
   "outputs": [],
   "source": [
    "import pandas as pd"
   ]
  },
  {
   "cell_type": "code",
   "execution_count": 3,
   "id": "2280f614-f132-4061-8bba-1e348ba6c1b7",
   "metadata": {},
   "outputs": [
    {
     "name": "stdout",
     "output_type": "stream",
     "text": [
      "0     4\n",
      "1     8\n",
      "2    15\n",
      "3    16\n",
      "4    23\n",
      "5    42\n",
      "dtype: int64\n"
     ]
    }
   ],
   "source": [
    "data = [4, 8, 15, 16, 23,42]\n",
    "Panda_Series = pd.Series(data)\n",
    "print(Panda_Series)"
   ]
  },
  {
   "cell_type": "code",
   "execution_count": null,
   "id": "662089f7-1d27-4575-a577-e77f6e8a52e3",
   "metadata": {},
   "outputs": [],
   "source": []
  },
  {
   "cell_type": "markdown",
   "id": "f3d88729-2b65-4201-a34f-a19901bb1b55",
   "metadata": {},
   "source": [
    "# Q2. Create a variable of list type containing 10 elements in it, and apply pandas.Series function on the variable print it."
   ]
  },
  {
   "cell_type": "markdown",
   "id": "29fad39e-bc59-48a8-be0e-a1c687496ddc",
   "metadata": {},
   "source": [
    "#### Creating a variable contaning list of first ten even numbers "
   ]
  },
  {
   "cell_type": "code",
   "execution_count": 4,
   "id": "e36879a0-9e67-402f-8ed1-68672b7be8a8",
   "metadata": {},
   "outputs": [],
   "source": [
    "my_list = [i for i in range(1,21) if i%2 == 0]"
   ]
  },
  {
   "cell_type": "markdown",
   "id": "ec10772e-d721-426d-9cc6-ae4e20d2b034",
   "metadata": {},
   "source": [
    "#### Creating Panda Series for aboe list"
   ]
  },
  {
   "cell_type": "code",
   "execution_count": 5,
   "id": "0e5d15c1-744f-4c01-a3c6-dda6660deec1",
   "metadata": {},
   "outputs": [
    {
     "name": "stdout",
     "output_type": "stream",
     "text": [
      "0     2\n",
      "1     4\n",
      "2     6\n",
      "3     8\n",
      "4    10\n",
      "5    12\n",
      "6    14\n",
      "7    16\n",
      "8    18\n",
      "9    20\n",
      "dtype: int64\n"
     ]
    }
   ],
   "source": [
    "Panda_series = pd.Series(my_list)\n",
    "print(Panda_series )"
   ]
  },
  {
   "cell_type": "code",
   "execution_count": null,
   "id": "4deb4718-e8d3-4a6f-8e0f-afcdb5152db5",
   "metadata": {},
   "outputs": [],
   "source": []
  },
  {
   "cell_type": "markdown",
   "id": "c829ce57-c41d-443a-93b4-c553d3c41f1a",
   "metadata": {},
   "source": [
    "# Q3. Create a Pandas DataFrame that contains the following data:"
   ]
  },
  {
   "cell_type": "markdown",
   "id": "e10f41e0-4c1e-4390-b237-8b454f6ddc20",
   "metadata": {},
   "source": [
    "|Name|Age|Gender|\n",
    "|----|---|----|\n",
    "|Alice|25|Female|\n",
    "|Bob|30|Male|\n",
    "|Claire|27|Female|\n",
    "# Then, print the DataFrame."
   ]
  },
  {
   "cell_type": "markdown",
   "id": "252e2bcb-9f0c-4ed3-a917-13af18557199",
   "metadata": {},
   "source": [
    "#### First step is to create a dictionary of same data that we want to display in tabular structure."
   ]
  },
  {
   "cell_type": "code",
   "execution_count": 6,
   "id": "80d142a5-2202-484c-9014-27d1ba8483c5",
   "metadata": {},
   "outputs": [],
   "source": [
    "data = {'Name':['Alice','Bob','Claire'],\n",
    "       'Age':[25, 30, 27],\n",
    "       'Gender':['Female','Male','Female']\n",
    "       }"
   ]
  },
  {
   "cell_type": "markdown",
   "id": "6be573a2-2516-4185-9b15-05dc7a8ea67f",
   "metadata": {},
   "source": [
    "#### Second step is to use the `pd.DataFrame()` function to convert the dictionary into a Pandas DataFrame and assign it to the `df` variable. Finally, we display the df variable, which will render the DataFrame as a table."
   ]
  },
  {
   "cell_type": "code",
   "execution_count": 11,
   "id": "c9d6045c-505d-4cec-8b81-214a7f0d7bcf",
   "metadata": {},
   "outputs": [
    {
     "name": "stdout",
     "output_type": "stream",
     "text": [
      "     Name  Age  Gender\n",
      "0   Alice   25  Female\n",
      "1     Bob   30    Male\n",
      "2  Claire   27  Female\n"
     ]
    }
   ],
   "source": [
    "df = pd.DataFrame(data)\n",
    "print(df)"
   ]
  },
  {
   "cell_type": "code",
   "execution_count": null,
   "id": "1ca47d6d-84df-47dd-836b-b661f28a34b1",
   "metadata": {},
   "outputs": [],
   "source": []
  },
  {
   "cell_type": "markdown",
   "id": "e0105bd6-7190-40cc-a522-3865e3c00e83",
   "metadata": {},
   "source": [
    "# Q4. What is ‘DataFrame’ in pandas and how is it different from pandas.series? Explain with an example."
   ]
  },
  {
   "cell_type": "markdown",
   "id": "bc6b7550-d969-45fd-9468-5364a64c0f66",
   "metadata": {},
   "source": [
    "#### A DataFrame is a two-dimensional labeled data structure in pandas, which is one of the most widely used libraries for data manipulation and analysis in Python.\n",
    "\n",
    "#### In a DataFrame, the data is organized in rows and columns, similar to a spreadsheet or a SQL table. Each column can have a different data type, such as numbers, strings, or dates, and each row represents a unique observation or record. The columns are labeled, and each row has an index that uniquely identifies it within the DataFrame.\n",
    "\n",
    "#### Pandas provides a wide range of functionality for manipulating, cleaning, and transforming data within a DataFrame, including filtering, grouping, pivoting, merging, and reshaping. DataFrames can also be easily exported to various formats, such as CSV or Excel, for further analysis or visualization in other tools.\n",
    "\n",
    "#### A DataFrame in pandas is a two-dimensional table-like data structure, while a Series is a one-dimensional array-like data structure.\n",
    "\n",
    "#### A Series can be thought of as a single column of a DataFrame, and it has an index that labels each element. In contrast, a DataFrame has multiple columns and an index that labels both rows and columns.\n",
    "\n",
    "#### Here are some other key differences between DataFrames and Series:\n",
    "1. Dimensionality: A DataFrame has two dimensions (rows and columns), while a Series has only one dimension (rows).\n",
    "2. Structure: A DataFrame can have multiple columns of different data types, while a Series has only one column of a single data type.\n",
    "3. Indexing: A DataFrame can be indexed by both row and column labels, while a Series is indexed only by row labels.\n",
    "4. Operations: Many operations that work on a Series can also be applied to a single column of a DataFrame, but operations that involve multiple columns (such as merging, grouping, or reshaping) require a DataFrame.\n",
    "\n",
    "#### Here's an example that shows the difference between a DataFrame and a Series:"
   ]
  },
  {
   "cell_type": "code",
   "execution_count": 17,
   "id": "ba9f60fe-518e-40db-997b-363080ad5e4e",
   "metadata": {},
   "outputs": [
    {
     "name": "stdout",
     "output_type": "stream",
     "text": [
      "     Name  Age  Gender\n",
      "0   Alice   25  Female\n",
      "1     Bob   30    Male\n",
      "2  Claire   27  Female\n"
     ]
    },
    {
     "data": {
      "text/plain": [
       "pandas.core.frame.DataFrame"
      ]
     },
     "execution_count": 17,
     "metadata": {},
     "output_type": "execute_result"
    }
   ],
   "source": [
    "data = {'Name':['Alice','Bob','Claire'],\n",
    "       'Age':[25, 30, 27],\n",
    "       'Gender':['Female','Male','Female']\n",
    "       }\n",
    "# Creating a DataFrame\n",
    "df = pd.DataFrame(data)\n",
    "print(df)\n",
    "type(df)"
   ]
  },
  {
   "cell_type": "code",
   "execution_count": 18,
   "id": "497de9cb-05a2-4a57-9d08-f3668de98750",
   "metadata": {},
   "outputs": [
    {
     "name": "stdout",
     "output_type": "stream",
     "text": [
      "0    25\n",
      "1    30\n",
      "2    27\n",
      "Name: Age, dtype: int64\n"
     ]
    },
    {
     "data": {
      "text/plain": [
       "pandas.core.series.Series"
      ]
     },
     "execution_count": 18,
     "metadata": {},
     "output_type": "execute_result"
    }
   ],
   "source": [
    "# Creating a Series\n",
    "series = df['Age']\n",
    "print(series)\n",
    "type(series)"
   ]
  },
  {
   "cell_type": "code",
   "execution_count": null,
   "id": "f31bab00-6714-4f49-8e8d-8e93c788cf00",
   "metadata": {},
   "outputs": [],
   "source": []
  },
  {
   "cell_type": "markdown",
   "id": "947f3d29-4e57-41ee-89ad-09baf4a7d01c",
   "metadata": {},
   "source": [
    "# Q5. What are some common functions you can use to manipulate data in a Pandas DataFrame? Can you give an example of when you might use one of these functions?"
   ]
  },
  {
   "cell_type": "markdown",
   "id": "2cdb9f25-1c52-44cb-aec0-a2216df7d5eb",
   "metadata": {},
   "source": [
    "#### Pandas DataFrame provides a wide range of functions for manipulating, cleaning, and transforming data. Here are some common functions you can use to manipulate data in a Pandas DataFrame:\n",
    "\n",
    "1. head(n) and tail(n) - Return the first n rows or last n rows of the DataFrame.\n",
    "\n",
    "2. fillna(value) - Fill missing values in the DataFrame with a specified value or method, such as the mean, median, or mode.\n",
    "\n",
    "3. isnull() and notnull() - Check if the DataFrame contains null (missing) values and return a Boolean DataFrame indicating where the null values are located.\n",
    "\n",
    "4. sort_values() - Sort the DataFrame by one or more columns, either in ascending or descending order.\n",
    "\n",
    "5. drop(labels) - Remove rows or columns from the DataFrame based on their labels or positions.\n",
    "\n",
    "6. describe() - Generate descriptive statistics of the DataFrame, such as count, mean, standard deviation, minimum, maximum, and quartile values.\n",
    "\n",
    "7. groupby() - Group the DataFrame by one or more columns and apply a function, such as sum, mean, or count, to each group.\n",
    "\n",
    "8. merge() - Merge two DataFrames based on one or more common columns\n",
    "\n",
    "9. dropna() -Removes rows or columns with missing (NaN) values from the DataFrame.\n",
    "\n",
    "10. fillna() - Fills missing (NaN) values in the DataFrame with a specified value or method."
   ]
  },
  {
   "cell_type": "markdown",
   "id": "de2a8d02-08ab-40e8-bbab-4401bd90adb5",
   "metadata": {},
   "source": [
    "## Examples - \n",
    "### 1. dropna():"
   ]
  },
  {
   "cell_type": "code",
   "execution_count": 21,
   "id": "4dacf8bf-65ee-487c-94c0-6980d17dbf18",
   "metadata": {},
   "outputs": [
    {
     "data": {
      "text/html": [
       "<div>\n",
       "<style scoped>\n",
       "    .dataframe tbody tr th:only-of-type {\n",
       "        vertical-align: middle;\n",
       "    }\n",
       "\n",
       "    .dataframe tbody tr th {\n",
       "        vertical-align: top;\n",
       "    }\n",
       "\n",
       "    .dataframe thead th {\n",
       "        text-align: right;\n",
       "    }\n",
       "</style>\n",
       "<table border=\"1\" class=\"dataframe\">\n",
       "  <thead>\n",
       "    <tr style=\"text-align: right;\">\n",
       "      <th></th>\n",
       "      <th>name</th>\n",
       "      <th>age</th>\n",
       "      <th>gender</th>\n",
       "    </tr>\n",
       "  </thead>\n",
       "  <tbody>\n",
       "    <tr>\n",
       "      <th>0</th>\n",
       "      <td>Gautam</td>\n",
       "      <td>20.0</td>\n",
       "      <td>Male</td>\n",
       "    </tr>\n",
       "    <tr>\n",
       "      <th>1</th>\n",
       "      <td>Bob Marley</td>\n",
       "      <td>25.0</td>\n",
       "      <td>Male</td>\n",
       "    </tr>\n",
       "    <tr>\n",
       "      <th>2</th>\n",
       "      <td>Charlie</td>\n",
       "      <td>30.0</td>\n",
       "      <td>Female</td>\n",
       "    </tr>\n",
       "    <tr>\n",
       "      <th>3</th>\n",
       "      <td>Dravid</td>\n",
       "      <td>35.0</td>\n",
       "      <td>Male</td>\n",
       "    </tr>\n",
       "    <tr>\n",
       "      <th>4</th>\n",
       "      <td>Monika</td>\n",
       "      <td>40.0</td>\n",
       "      <td>Female</td>\n",
       "    </tr>\n",
       "    <tr>\n",
       "      <th>5</th>\n",
       "      <td>Frank</td>\n",
       "      <td>NaN</td>\n",
       "      <td>None</td>\n",
       "    </tr>\n",
       "    <tr>\n",
       "      <th>6</th>\n",
       "      <td>Nimish</td>\n",
       "      <td>29.0</td>\n",
       "      <td>Male</td>\n",
       "    </tr>\n",
       "    <tr>\n",
       "      <th>7</th>\n",
       "      <td>Harry</td>\n",
       "      <td>NaN</td>\n",
       "      <td>Male</td>\n",
       "    </tr>\n",
       "  </tbody>\n",
       "</table>\n",
       "</div>"
      ],
      "text/plain": [
       "         name   age  gender\n",
       "0      Gautam  20.0    Male\n",
       "1  Bob Marley  25.0    Male\n",
       "2     Charlie  30.0  Female\n",
       "3      Dravid  35.0    Male\n",
       "4      Monika  40.0  Female\n",
       "5       Frank   NaN    None\n",
       "6      Nimish  29.0    Male\n",
       "7       Harry   NaN    Male"
      ]
     },
     "execution_count": 21,
     "metadata": {},
     "output_type": "execute_result"
    }
   ],
   "source": [
    "# Create a DataFrame with missing values\n",
    "data = {'name': ['Gautam', 'Bob Marley', 'Charlie', 'Dravid', 'Monika', 'Frank', 'Nimish', 'Harry'],\n",
    "        'age': [20, 25, 30, 35, 40, None, 29, None],\n",
    "        'gender': ['Male', 'Male', 'Female', 'Male', 'Female', None, 'Male', 'Male']}\n",
    "df = pd.DataFrame(data)\n",
    "df"
   ]
  },
  {
   "cell_type": "code",
   "execution_count": 22,
   "id": "2819fac2-24f5-41e7-9d4f-6a2add389b32",
   "metadata": {},
   "outputs": [
    {
     "name": "stdout",
     "output_type": "stream",
     "text": [
      "         name   age  gender\n",
      "0      Gautam  20.0    Male\n",
      "1  Bob Marley  25.0    Male\n",
      "2     Charlie  30.0  Female\n",
      "3      Dravid  35.0    Male\n",
      "4      Monika  40.0  Female\n",
      "6      Nimish  29.0    Male\n"
     ]
    }
   ],
   "source": [
    "# Remove rows with missing values\n",
    "clean_df = df.dropna()\n",
    "\n",
    "# Print the cleaned data\n",
    "print(clean_df)"
   ]
  },
  {
   "cell_type": "markdown",
   "id": "9833b95f-6144-412c-bdb9-fcc660c0c8ec",
   "metadata": {},
   "source": [
    "#### In this example, the DataFrame `df` contains missing values for the 'age' and 'gender' columns. The `dropna()` function is used to remove any rows with missing values, resulting in a cleaned DataFrame `clean_df`. The output of the print() function shows the cleaned data\n",
    "\n",
    "#### Note that the two rows with missing values `(index 5 and 7)` have been removed from the cleaned data. By removing these rows, we ensure that only valid data is used for analysis and prevent any errors or biases that may result from using incomplete data."
   ]
  },
  {
   "cell_type": "markdown",
   "id": "f673a0c0-a325-46fb-b117-0b9268245ca5",
   "metadata": {},
   "source": [
    "### 2. groupby():"
   ]
  },
  {
   "cell_type": "code",
   "execution_count": 24,
   "id": "45e82b1f-e27d-4321-9bf1-c9ccdd702b5b",
   "metadata": {},
   "outputs": [
    {
     "data": {
      "text/html": [
       "<div>\n",
       "<style scoped>\n",
       "    .dataframe tbody tr th:only-of-type {\n",
       "        vertical-align: middle;\n",
       "    }\n",
       "\n",
       "    .dataframe tbody tr th {\n",
       "        vertical-align: top;\n",
       "    }\n",
       "\n",
       "    .dataframe thead th {\n",
       "        text-align: right;\n",
       "    }\n",
       "</style>\n",
       "<table border=\"1\" class=\"dataframe\">\n",
       "  <thead>\n",
       "    <tr style=\"text-align: right;\">\n",
       "      <th></th>\n",
       "      <th>name</th>\n",
       "      <th>grade_level</th>\n",
       "      <th>grade</th>\n",
       "    </tr>\n",
       "  </thead>\n",
       "  <tbody>\n",
       "    <tr>\n",
       "      <th>0</th>\n",
       "      <td>Alice</td>\n",
       "      <td>freshman</td>\n",
       "      <td>90</td>\n",
       "    </tr>\n",
       "    <tr>\n",
       "      <th>1</th>\n",
       "      <td>Bob</td>\n",
       "      <td>sophomore</td>\n",
       "      <td>85</td>\n",
       "    </tr>\n",
       "    <tr>\n",
       "      <th>2</th>\n",
       "      <td>Charlie</td>\n",
       "      <td>junior</td>\n",
       "      <td>95</td>\n",
       "    </tr>\n",
       "    <tr>\n",
       "      <th>3</th>\n",
       "      <td>David</td>\n",
       "      <td>senior</td>\n",
       "      <td>80</td>\n",
       "    </tr>\n",
       "    <tr>\n",
       "      <th>4</th>\n",
       "      <td>Emily</td>\n",
       "      <td>freshman</td>\n",
       "      <td>92</td>\n",
       "    </tr>\n",
       "    <tr>\n",
       "      <th>5</th>\n",
       "      <td>Frank</td>\n",
       "      <td>sophomore</td>\n",
       "      <td>88</td>\n",
       "    </tr>\n",
       "    <tr>\n",
       "      <th>6</th>\n",
       "      <td>Grace</td>\n",
       "      <td>junior</td>\n",
       "      <td>94</td>\n",
       "    </tr>\n",
       "    <tr>\n",
       "      <th>7</th>\n",
       "      <td>Henry</td>\n",
       "      <td>senior</td>\n",
       "      <td>81</td>\n",
       "    </tr>\n",
       "  </tbody>\n",
       "</table>\n",
       "</div>"
      ],
      "text/plain": [
       "      name grade_level  grade\n",
       "0    Alice    freshman     90\n",
       "1      Bob   sophomore     85\n",
       "2  Charlie      junior     95\n",
       "3    David      senior     80\n",
       "4    Emily    freshman     92\n",
       "5    Frank   sophomore     88\n",
       "6    Grace      junior     94\n",
       "7    Henry      senior     81"
      ]
     },
     "execution_count": 24,
     "metadata": {},
     "output_type": "execute_result"
    }
   ],
   "source": [
    "# Create a DataFrame with student grades\n",
    "data = {'name': ['Alice', 'Bob', 'Charlie', 'David', 'Emily', 'Frank', 'Grace', 'Henry'],\n",
    "        'grade_level': ['freshman', 'sophomore', 'junior', 'senior', 'freshman', 'sophomore', 'junior', 'senior'],\n",
    "        'grade': [90, 85, 95, 80, 92, 88, 94, 81]}\n",
    "df = pd.DataFrame(data)\n",
    "df"
   ]
  },
  {
   "cell_type": "code",
   "execution_count": 25,
   "id": "d80faae3-9e78-437b-9d8f-132a7a483ef4",
   "metadata": {},
   "outputs": [
    {
     "name": "stdout",
     "output_type": "stream",
     "text": [
      "grade_level\n",
      "freshman     91.0\n",
      "junior       94.5\n",
      "senior       80.5\n",
      "sophomore    86.5\n",
      "Name: grade, dtype: float64\n"
     ]
    }
   ],
   "source": [
    "# Group the data by grade level and compute the average grade\n",
    "grouped_df = df.groupby('grade_level')['grade'].mean()\n",
    "\n",
    "# Print the grouped data\n",
    "print(grouped_df)"
   ]
  },
  {
   "cell_type": "markdown",
   "id": "7ac59e8a-f9f1-4c49-8169-8ae0b348eda2",
   "metadata": {},
   "source": [
    "#### The `groupby()` function is used to group the DataFrame df by the `grade_level` column, and the `ean()` function is applied to the `grade` column for each group to compute the average grade. The resulting grouped_df DataFrame contains the average grade for each grade level"
   ]
  },
  {
   "cell_type": "code",
   "execution_count": null,
   "id": "fdbdff5d-6a71-49e4-b022-047950bab759",
   "metadata": {},
   "outputs": [],
   "source": []
  },
  {
   "cell_type": "markdown",
   "id": "802dddc4-d749-4287-9b95-28a993b3b306",
   "metadata": {},
   "source": [
    "# Q6. Which of the following is mutable in nature Series, DataFrame, Panel?"
   ]
  },
  {
   "cell_type": "markdown",
   "id": "5120caad-5f71-4dce-b153-9229493c205a",
   "metadata": {},
   "source": [
    "#### In pandas, both `Series` and `DataFrame` are mutable in nature, meaning that their values can be changed after creation. However, `Panel` is an immutable data structure in pandas, which means that it cannot be modified once created and any changes made to them usually result in the creation of a new object..\n",
    "\n",
    "#### To change the values in a `Series` or `DataFrame`, you can assign new values to specific locations using indexing or selection methods provided by pandas, such as .loc[] or .iloc[].\n",
    "\n",
    "#### Note that while `Series` and `DataFrame` objects are mutable, it is generally recommended to avoid modifying them in place, as this can lead to unexpected results and errors. Instead, it is often better to create a new object with the desired modifications."
   ]
  },
  {
   "cell_type": "code",
   "execution_count": null,
   "id": "4f778aea-a876-4208-9f43-ca6e6580b397",
   "metadata": {},
   "outputs": [],
   "source": []
  },
  {
   "cell_type": "markdown",
   "id": "33e083fd-86b4-458b-a341-0ea08fee82b2",
   "metadata": {},
   "source": [
    "# Q7. Create a DataFrame using multiple Series. Explain with an example."
   ]
  },
  {
   "cell_type": "markdown",
   "id": "012fff9d-db1a-45d7-8f85-091711996f06",
   "metadata": {},
   "source": [
    "#### We can create a Pandas DataFrame using multiple Series by passing a dictionary of Series to the pd.DataFrame() function. Each Series represents a column of the DataFrame, and the dictionary keys represent the column names.\n",
    "\n",
    "#### Here's an example of creating a DataFrame using multiple Series:"
   ]
  },
  {
   "cell_type": "code",
   "execution_count": 33,
   "id": "5bb6ccbb-3b5f-42c0-9139-416df8c6187a",
   "metadata": {},
   "outputs": [
    {
     "data": {
      "text/html": [
       "<div>\n",
       "<style scoped>\n",
       "    .dataframe tbody tr th:only-of-type {\n",
       "        vertical-align: middle;\n",
       "    }\n",
       "\n",
       "    .dataframe tbody tr th {\n",
       "        vertical-align: top;\n",
       "    }\n",
       "\n",
       "    .dataframe thead th {\n",
       "        text-align: right;\n",
       "    }\n",
       "</style>\n",
       "<table border=\"1\" class=\"dataframe\">\n",
       "  <thead>\n",
       "    <tr style=\"text-align: right;\">\n",
       "      <th></th>\n",
       "      <th>Courses</th>\n",
       "      <th>Price</th>\n",
       "      <th>Discount Price</th>\n",
       "    </tr>\n",
       "  </thead>\n",
       "  <tbody>\n",
       "    <tr>\n",
       "      <th>0</th>\n",
       "      <td>Full Stack Data Science</td>\n",
       "      <td>20000</td>\n",
       "      <td>17000</td>\n",
       "    </tr>\n",
       "    <tr>\n",
       "      <th>1</th>\n",
       "      <td>Data Science Master</td>\n",
       "      <td>7500</td>\n",
       "      <td>3500</td>\n",
       "    </tr>\n",
       "    <tr>\n",
       "      <th>2</th>\n",
       "      <td>Full Stack Web Developer</td>\n",
       "      <td>20000</td>\n",
       "      <td>15000</td>\n",
       "    </tr>\n",
       "  </tbody>\n",
       "</table>\n",
       "</div>"
      ],
      "text/plain": [
       "                    Courses  Price Discount Price\n",
       "0   Full Stack Data Science  20000          17000\n",
       "1       Data Science Master   7500           3500\n",
       "2  Full Stack Web Developer  20000          15000"
      ]
     },
     "execution_count": 33,
     "metadata": {},
     "output_type": "execute_result"
    }
   ],
   "source": [
    "# Create three Series with data for each column\n",
    "course_name = pd.Series(['Full Stack Data Science','Data Science Master','Full Stack Web Developer'])\n",
    "course_price = pd.Series(['20000','7500','20000'])\n",
    "discount_price = pd.Series(['17000','3500','15000'])\n",
    "\n",
    "# Create a dictionary of the Series\n",
    "data = {'Courses':course_name,'Price':course_price,'Discount Price':discount_price}\n",
    "\n",
    "# Create a DataFrame from the dictionary\n",
    "df = pd.DataFrame(data)\n",
    "df"
   ]
  },
  {
   "cell_type": "code",
   "execution_count": null,
   "id": "f882b5fc-496f-416e-9e25-9f51c5fa081c",
   "metadata": {},
   "outputs": [],
   "source": []
  },
  {
   "cell_type": "code",
   "execution_count": null,
   "id": "f3a25092-f587-4b82-a183-ffb4e0ccbfef",
   "metadata": {},
   "outputs": [],
   "source": []
  }
 ],
 "metadata": {
  "kernelspec": {
   "display_name": "Python 3 (ipykernel)",
   "language": "python",
   "name": "python3"
  },
  "language_info": {
   "codemirror_mode": {
    "name": "ipython",
    "version": 3
   },
   "file_extension": ".py",
   "mimetype": "text/x-python",
   "name": "python",
   "nbconvert_exporter": "python",
   "pygments_lexer": "ipython3",
   "version": "3.10.8"
  }
 },
 "nbformat": 4,
 "nbformat_minor": 5
}
